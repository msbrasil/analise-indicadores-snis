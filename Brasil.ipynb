{
 "cells": [
  {
   "cell_type": "code",
   "execution_count": 4,
   "metadata": {},
   "outputs": [],
   "source": [
    "import pandas as pd\n",
    "import numpy as np\n",
    "import matplotlib.pyplot as plt\n",
    "import seaborn as sns\n",
    "import geobr"
   ]
  },
  {
   "cell_type": "code",
   "execution_count": 14,
   "metadata": {},
   "outputs": [],
   "source": [
    "brasil = pd.read_excel('dados/desagregado-BRASIL.xlsx')"
   ]
  },
  {
   "cell_type": "code",
   "execution_count": 15,
   "metadata": {},
   "outputs": [],
   "source": [
    "brasil = brasil.drop(snis.index[-1])"
   ]
  },
  {
   "cell_type": "code",
   "execution_count": 21,
   "metadata": {},
   "outputs": [],
   "source": [
    "cobertura_br = snis.groupby('Ano de Referência')[['POP_TOT - População total do município do ano de referência (Fonte: IBGE):', 'AG001 - População total atendida com abastecimento de água']].sum()"
   ]
  },
  {
   "cell_type": "code",
   "execution_count": 28,
   "metadata": {},
   "outputs": [],
   "source": [
    "cobertura_br['cobertura'] = cobertura_br['AG001 - População total atendida com abastecimento de água'] / cobertura_br['POP_TOT - População total do município do ano de referência (Fonte: IBGE):']\n",
    "cobertura_br['var'] = cobertura_br['cobertura'].pct_change()\n",
    "cobertura_br[['cobertura', 'var']] = cobertura_br[['cobertura', 'var']].round(2) * 100"
   ]
  },
  {
   "cell_type": "code",
   "execution_count": 33,
   "metadata": {},
   "outputs": [
    {
     "data": {
      "image/png": "[encoded data removed]",
      "text/plain": [
       "<Figure size 720x360 with 1 Axes>"
      ]
     },
     "metadata": {
      "needs_background": "light"
     },
     "output_type": "display_data"
    }
   ],
   "source": [
    "#gráfico de barras com a cobertura do brasil\n",
    "cobertura_br['cobertura'].plot(kind='bar', figsize=(10,5), color='blue')\n",
    "plt.title('Cobertura de água no Brasil')\n",
    "plt.ylabel('Cobertura (%)')\n",
    "plt.xlabel('Ano')\n",
    "plt.show()\n",
    "\n",
    "\n"
   ]
  }
 ],
 "metadata": {
  "kernelspec": {
   "display_name": "boletim",
   "language": "python",
   "name": "python3"
  },
  "language_info": {
   "codemirror_mode": {
    "name": "ipython",
    "version": 3
   },
   "file_extension": ".py",
   "mimetype": "text/x-python",
   "name": "python",
   "nbconvert_exporter": "python",
   "pygments_lexer": "ipython3",
   "version": "3.10.4"
  },
  "orig_nbformat": 4
 },
 "nbformat": 4,
 "nbformat_minor": 2
}
